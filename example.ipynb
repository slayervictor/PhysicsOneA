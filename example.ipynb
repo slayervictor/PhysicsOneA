{
 "cells": [
  {
   "cell_type": "markdown",
   "id": "ca393c13",
   "metadata": {},
   "source": [
    "Requirements"
   ]
  },
  {
   "cell_type": "code",
   "execution_count": 1,
   "id": "09302f8a",
   "metadata": {},
   "outputs": [],
   "source": [
    "from PhysicsOneA import *\n",
    "from sympy import init_printing\n",
    "init_printing()"
   ]
  },
  {
   "cell_type": "markdown",
   "id": "4846a741",
   "metadata": {},
   "source": [
    "# Code Examples"
   ]
  },
  {
   "cell_type": "markdown",
   "id": "84a2d6b7",
   "metadata": {},
   "source": [
    "Vector Example"
   ]
  },
  {
   "cell_type": "code",
   "execution_count": 2,
   "id": "30cad2a4",
   "metadata": {},
   "outputs": [
    {
     "data": {
      "image/png": "[encoded data removed]",
      "text/latex": [
       "$\\displaystyle \\sqrt{2}$"
      ],
      "text/plain": [
       "√2"
      ]
     },
     "execution_count": 2,
     "metadata": {},
     "output_type": "execute_result"
    }
   ],
   "source": [
    "v = Vector([1, 1])\n",
    "v.length()"
   ]
  },
  {
   "cell_type": "code",
   "execution_count": 3,
   "id": "5070ba81",
   "metadata": {},
   "outputs": [
    {
     "name": "stdout",
     "output_type": "stream",
     "text": [
      "Vector: Matrix([[1], [1]])\n",
      "Length: sqrt(2)\n"
     ]
    }
   ],
   "source": [
    "print(v)"
   ]
  },
  {
   "cell_type": "code",
   "execution_count": 4,
   "id": "6065e5de",
   "metadata": {},
   "outputs": [
    {
     "data": {
      "image/png": "[encoded data removed]",
      "text/latex": [
       "$\\displaystyle 1.4142135623731$"
      ],
      "text/plain": [
       "1.41421356237310"
      ]
     },
     "execution_count": 4,
     "metadata": {},
     "output_type": "execute_result"
    }
   ],
   "source": [
    "\n",
    "evalf(v.length())"
   ]
  },
  {
   "cell_type": "code",
   "execution_count": 5,
   "id": "8dba4007",
   "metadata": {},
   "outputs": [
    {
     "data": {
      "text/plain": [
       "{'s': 5.0, 'u': 2.0, 'v': 3.0, 'a': 0.5, 't': 2.0}"
      ]
     },
     "execution_count": 5,
     "metadata": {},
     "output_type": "execute_result"
    }
   ],
   "source": [
    "solve_suvat(u=2, v=3, t=2)"
   ]
  },
  {
   "cell_type": "code",
   "execution_count": 6,
   "id": "bc126d09",
   "metadata": {},
   "outputs": [
    {
     "data": {
      "image/png": "[encoded data removed]",
      "text/latex": [
       "$\\displaystyle 36.0$"
      ],
      "text/plain": [
       "36.0"
      ]
     },
     "execution_count": 6,
     "metadata": {},
     "output_type": "execute_result"
    }
   ],
   "source": [
    "speed_converter(10)"
   ]
  },
  {
   "cell_type": "code",
   "execution_count": 7,
   "id": "cc837873",
   "metadata": {},
   "outputs": [
    {
     "data": {
      "image/png": "[encoded data removed]",
      "text/latex": [
       "$\\displaystyle \\left[\\begin{matrix}1\\\\2\\end{matrix}\\right]$"
      ],
      "text/plain": [
       "⎡1⎤\n",
       "⎢ ⎥\n",
       "⎣2⎦"
      ]
     },
     "execution_count": 7,
     "metadata": {},
     "output_type": "execute_result"
    }
   ],
   "source": [
    "a = VectorPair(v,[2,3])\n",
    "a.displacement()"
   ]
  },
  {
   "cell_type": "code",
   "execution_count": 8,
   "id": "9cdacecf",
   "metadata": {},
   "outputs": [
    {
     "data": {
      "image/png": "[encoded data removed]",
      "text/latex": [
       "$\\displaystyle \\left[\\begin{matrix}2\\\\3\\end{matrix}\\right]$"
      ],
      "text/plain": [
       "⎡2⎤\n",
       "⎢ ⎥\n",
       "⎣3⎦"
      ]
     },
     "execution_count": 8,
     "metadata": {},
     "output_type": "execute_result"
    }
   ],
   "source": [
    "a.getVector(1)"
   ]
  },
  {
   "cell_type": "code",
   "execution_count": 9,
   "id": "74c1f7b3",
   "metadata": {},
   "outputs": [
    {
     "name": "stdout",
     "output_type": "stream",
     "text": [
      "Vector Pair:\n",
      "  First: Matrix([[1], [1]])\n",
      "  Second: Matrix([[2], [3]])\n"
     ]
    }
   ],
   "source": [
    "print(a)"
   ]
  },
  {
   "cell_type": "code",
   "execution_count": 10,
   "id": "3acb4184",
   "metadata": {},
   "outputs": [
    {
     "name": "stdout",
     "output_type": "stream",
     "text": [
      "v0: 1.414 m/s\n",
      "theta: 45.000° (degrees)\n",
      "v0x: 1.000 m/s\n",
      "v0y: 1.000 m/s\n",
      "y0: 0.000 m\n",
      "g: 9.82 m/s²\n",
      "time of flight: 0.204 s\n"
     ]
    }
   ],
   "source": [
    "proj = Projectile(v0x=1,v0y=1)\n",
    "print(proj)"
   ]
  }
 ],
 "metadata": {
  "kernelspec": {
   "display_name": "Python 3",
   "language": "python",
   "name": "python3"
  },
  "language_info": {
   "codemirror_mode": {
    "name": "ipython",
    "version": 3
   },
   "file_extension": ".py",
   "mimetype": "text/x-python",
   "name": "python",
   "nbconvert_exporter": "python",
   "pygments_lexer": "ipython3",
   "version": "3.12.6"
  }
 },
 "nbformat": 4,
 "nbformat_minor": 5
}

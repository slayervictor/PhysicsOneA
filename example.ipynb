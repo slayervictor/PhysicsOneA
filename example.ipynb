{
 "cells": [
  {
   "cell_type": "markdown",
   "id": "ca393c13",
   "metadata": {},
   "source": [
    "Requirements"
   ]
  },
  {
   "cell_type": "code",
   "execution_count": 1,
   "id": "09302f8a",
   "metadata": {},
   "outputs": [],
   "source": [
    "from Lectures import *\n",
    "from sympy import init_printing\n",
    "init_printing()"
   ]
  },
  {
   "cell_type": "markdown",
   "id": "4846a741",
   "metadata": {},
   "source": [
    "# Code Examples"
   ]
  },
  {
   "cell_type": "markdown",
   "id": "84a2d6b7",
   "metadata": {},
   "source": [
    "Vector Example"
   ]
  },
  {
   "cell_type": "code",
   "execution_count": 2,
   "id": "30cad2a4",
   "metadata": {},
   "outputs": [
    {
     "data": {
      "image/png": "[encoded data removed]",
      "text/latex": [
       "$\\displaystyle \\sqrt{2}$"
      ],
      "text/plain": [
       "√2"
      ]
     },
     "execution_count": 2,
     "metadata": {},
     "output_type": "execute_result"
    }
   ],
   "source": [
    "\n",
    "v = Vector([1, 1])\n",
    "v.length()"
   ]
  },
  {
   "cell_type": "code",
   "execution_count": 3,
   "id": "5070ba81",
   "metadata": {},
   "outputs": [
    {
     "name": "stdout",
     "output_type": "stream",
     "text": [
      "Vectors: [1, 1]\n",
      "Length: sqrt(2)\n"
     ]
    }
   ],
   "source": [
    "print(v)"
   ]
  },
  {
   "cell_type": "code",
   "execution_count": 4,
   "id": "6065e5de",
   "metadata": {},
   "outputs": [
    {
     "data": {
      "image/png": "[encoded data removed]",
      "text/latex": [
       "$\\displaystyle 1.4142135623731$"
      ],
      "text/plain": [
       "1.41421356237310"
      ]
     },
     "execution_count": 4,
     "metadata": {},
     "output_type": "execute_result"
    }
   ],
   "source": [
    "\n",
    "evalf(v.length())"
   ]
  },
  {
   "cell_type": "code",
   "execution_count": 5,
   "id": "8dba4007",
   "metadata": {},
   "outputs": [
    {
     "data": {
      "text/plain": [
       "{'s': 5.0, 'u': 2.0, 'v': 3.0, 'a': 0.5, 't': 2.0}"
      ]
     },
     "execution_count": 5,
     "metadata": {},
     "output_type": "execute_result"
    }
   ],
   "source": [
    "solve_suvat(u=2, v=3, t=2)"
   ]
  },
  {
   "cell_type": "code",
   "execution_count": 6,
   "id": "bc126d09",
   "metadata": {},
   "outputs": [
    {
     "data": {
      "image/png": "[encoded data removed]",
      "text/latex": [
       "$\\displaystyle 36.0$"
      ],
      "text/plain": [
       "36.0"
      ]
     },
     "execution_count": 6,
     "metadata": {},
     "output_type": "execute_result"
    }
   ],
   "source": [
    "speed_converter(10)"
   ]
  }
 ],
 "metadata": {
  "kernelspec": {
   "display_name": "Python 3",
   "language": "python",
   "name": "python3"
  },
  "language_info": {
   "codemirror_mode": {
    "name": "ipython",
    "version": 3
   },
   "file_extension": ".py",
   "mimetype": "text/x-python",
   "name": "python",
   "nbconvert_exporter": "python",
   "pygments_lexer": "ipython3",
   "version": "3.12.6"
  }
 },
 "nbformat": 4,
 "nbformat_minor": 5
}

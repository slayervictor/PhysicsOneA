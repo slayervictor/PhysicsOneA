{
 "cells": [
  {
   "cell_type": "markdown",
   "id": "ca393c13",
   "metadata": {},
   "source": [
    "Requirements"
   ]
  },
  {
   "cell_type": "code",
   "execution_count": 1,
   "id": "09302f8a",
   "metadata": {},
   "outputs": [],
   "source": [
    "from PhysicsOneA import *\n",
    "from PhysicsOneA.dependencies import *\n",
    "from sympy import init_printing\n",
    "init_printing()"
   ]
  },
  {
   "cell_type": "markdown",
   "id": "4846a741",
   "metadata": {},
   "source": [
    "# Code Examples"
   ]
  },
  {
   "cell_type": "markdown",
   "id": "84a2d6b7",
   "metadata": {},
   "source": [
    "Vector Example"
   ]
  },
  {
   "cell_type": "code",
   "execution_count": 2,
   "id": "30cad2a4",
   "metadata": {},
   "outputs": [
    {
     "data": {
      "text/plain": [
       "<PhysicsOneA.Kinematics2D.Vector at 0x7fd66846ae40>"
      ]
     },
     "execution_count": 2,
     "metadata": {},
     "output_type": "execute_result"
    }
   ],
   "source": [
    "v = Vector([1, 1])\n",
    "v"
   ]
  },
  {
   "cell_type": "code",
   "execution_count": 3,
   "id": "5070ba81",
   "metadata": {},
   "outputs": [
    {
     "name": "stdout",
     "output_type": "stream",
     "text": [
      "Vector: [1 1]\n",
      "Length: 1.4142135623730951\n"
     ]
    }
   ],
   "source": [
    "print(v)"
   ]
  },
  {
   "cell_type": "code",
   "execution_count": 4,
   "id": "8dba4007",
   "metadata": {},
   "outputs": [
    {
     "data": {
      "text/plain": [
       "{'s': 18.0+/-1.8,\n",
       " 'u': 2.0+/-0.1,\n",
       " 'v': 4.0+/-0.2,\n",
       " 'a': 0.3333333333333333+/-0,\n",
       " 't': 6.0+/-0.30000000000000004}"
      ]
     },
     "execution_count": 4,
     "metadata": {},
     "output_type": "execute_result"
    }
   ],
   "source": [
    "u = ufloat(2,0.1)\n",
    "solve_suvat(u=u, v=u+u, t=u+u+u)"
   ]
  },
  {
   "cell_type": "code",
   "execution_count": 5,
   "id": "8d8d288e",
   "metadata": {},
   "outputs": [
    {
     "name": "stderr",
     "output_type": "stream",
     "text": [
      "/home/taylor/.globalenv/lib/python3.13/site-packages/uncertainties/core.py:1024: UserWarning: Using UFloat objects with std_dev==0 may give unexpected results.\n",
      "  warn(\"Using UFloat objects with std_dev==0 may give unexpected results.\")\n"
     ]
    },
    {
     "data": {
      "text/plain": [
       "{'s': 1.0, 'u': 45.0, 'v': 2.0, 'a': -1010.5, 't': 0.0425531914893617}"
      ]
     },
     "execution_count": 5,
     "metadata": {},
     "output_type": "execute_result"
    }
   ],
   "source": [
    "solve_suvat(s=1,u=45,v=2)"
   ]
  },
  {
   "cell_type": "code",
   "execution_count": 6,
   "id": "bc126d09",
   "metadata": {},
   "outputs": [
    {
     "data": {
      "image/png": "[encoded data removed]",
      "text/latex": [
       "$\\displaystyle 36.0$"
      ],
      "text/plain": [
       "36.0"
      ]
     },
     "execution_count": 6,
     "metadata": {},
     "output_type": "execute_result"
    }
   ],
   "source": [
    "speed_converter(10)"
   ]
  },
  {
   "cell_type": "code",
   "execution_count": 7,
   "id": "cc837873",
   "metadata": {},
   "outputs": [
    {
     "data": {
      "text/plain": [
       "array([1, 2])"
      ]
     },
     "execution_count": 7,
     "metadata": {},
     "output_type": "execute_result"
    }
   ],
   "source": [
    "a = VectorPair(v,[2,3])\n",
    "a.displacement()"
   ]
  },
  {
   "cell_type": "code",
   "execution_count": 8,
   "id": "9cdacecf",
   "metadata": {},
   "outputs": [
    {
     "data": {
      "text/plain": [
       "array([2, 3])"
      ]
     },
     "execution_count": 8,
     "metadata": {},
     "output_type": "execute_result"
    }
   ],
   "source": [
    "a.getVector(1)"
   ]
  },
  {
   "cell_type": "code",
   "execution_count": 9,
   "id": "74c1f7b3",
   "metadata": {},
   "outputs": [
    {
     "name": "stdout",
     "output_type": "stream",
     "text": [
      "Vector Pair:\n",
      "  First: [1 1]\n",
      "  Second: [2 3]\n"
     ]
    }
   ],
   "source": [
    "print(a)"
   ]
  },
  {
   "cell_type": "code",
   "execution_count": 10,
   "id": "3acb4184",
   "metadata": {},
   "outputs": [
    {
     "name": "stderr",
     "output_type": "stream",
     "text": [
      "/home/taylor/.globalenv/lib/python3.13/site-packages/uncertainties/core.py:1024: UserWarning: Using UFloat objects with std_dev==0 may give unexpected results.\n",
      "  warn(\"Using UFloat objects with std_dev==0 may give unexpected results.\")\n"
     ]
    },
    {
     "ename": "NameError",
     "evalue": "name 'pi' is not defined",
     "output_type": "error",
     "traceback": [
      "\u001b[31m---------------------------------------------------------------------------\u001b[39m",
      "\u001b[31mNameError\u001b[39m                                 Traceback (most recent call last)",
      "\u001b[36mCell\u001b[39m\u001b[36m \u001b[39m\u001b[32mIn[10]\u001b[39m\u001b[32m, line 1\u001b[39m\n\u001b[32m----> \u001b[39m\u001b[32m1\u001b[39m proj = Projectile(time_of_flight=\u001b[32m3.5\u001b[39m, theta=\u001b[43mdegree_to_radian\u001b[49m\u001b[43m(\u001b[49m\u001b[32;43m50\u001b[39;49m\u001b[43m)\u001b[49m)\n\u001b[32m      2\u001b[39m \u001b[38;5;28mprint\u001b[39m(proj)\n\u001b[32m      4\u001b[39m proj.plot_velocity_over_time()\n",
      "\u001b[36mFile \u001b[39m\u001b[32m~/Projects/PhysicsOneA/src/PhysicsOneA/helpers.py:43\u001b[39m, in \u001b[36mdegree_to_radian\u001b[39m\u001b[34m(angle_deg)\u001b[39m\n\u001b[32m     41\u001b[39m \u001b[38;5;28;01mdef\u001b[39;00m\u001b[38;5;250m \u001b[39m\u001b[34mdegree_to_radian\u001b[39m(angle_deg):\n\u001b[32m     42\u001b[39m \u001b[38;5;250m    \u001b[39m\u001b[33;03m\"\"\"Convert degrees to radians using umath-compatible value\"\"\"\u001b[39;00m\n\u001b[32m---> \u001b[39m\u001b[32m43\u001b[39m     \u001b[38;5;28;01mreturn\u001b[39;00m format_input(angle_deg) * (\u001b[43mpi\u001b[49m / \u001b[32m180\u001b[39m)\n",
      "\u001b[31mNameError\u001b[39m: name 'pi' is not defined"
     ]
    }
   ],
   "source": [
    "proj = Projectile(time_of_flight=3.5, theta=degree_to_radian(50))\n",
    "print(proj)\n",
    "\n",
    "proj.plot_velocity_over_time()"
   ]
  },
  {
   "cell_type": "code",
   "execution_count": null,
   "id": "97ebf9b8",
   "metadata": {},
   "outputs": [
    {
     "name": "stdout",
     "output_type": "stream",
     "text": [
      "--- Projectile Info ---\n",
      "Initial speed (v0): 20.3812 m/s\n",
      "Launch angle (theta): 6.84°\n",
      "Horizontal velocity (v0x): 20.2361 m/s\n",
      "Vertical velocity (v0y): 2.4273 m/s\n",
      "Initial height (y0): 0.0000 m\n",
      "Gravity (g): 9.82 m/s²\n",
      "\n",
      "--- Derived Quantities ---\n",
      "Time of flight (flat): 0.4944 s\n",
      "Time of flight (realistic): 0.4944 s\n",
      "Maximum height: 0.3000 m\n",
      "Range: 10.0041 m\n"
     ]
    }
   ],
   "source": [
    "j = Projectile(max_height=0.3,range_=10)\n",
    "print(j)"
   ]
  },
  {
   "cell_type": "code",
   "execution_count": null,
   "id": "f22d6636",
   "metadata": {},
   "outputs": [
    {
     "name": "stdout",
     "output_type": "stream",
     "text": [
      "--- Circular Motion ---\n",
      "Radius r: 6370000 m\n",
      "Period T: 86400 s\n",
      "v = 463.2395 m/s\n",
      "centripetal acceleration = 0.0337 m/s²\n",
      "tangential acceleration = ?\n",
      "Critical period for weightlessness: 5060.50 seconds (~1.41 hours)\n"
     ]
    }
   ],
   "source": [
    "c = CircularMotion(r=6370*1000,T=(60*60*24)) #0.000003687\n",
    "c.centripetal_acceleration()\n",
    "print(c)\n"
   ]
  },
  {
   "cell_type": "code",
   "execution_count": 11,
   "id": "47df0134",
   "metadata": {},
   "outputs": [
    {
     "name": "stdout",
     "output_type": "stream",
     "text": [
      "=== Regular Float Tests ===\n",
      "Missing s - basic motion: ERROR - unsupported operand type(s) for /: 'AffineScalarFunc' and 'NoneType'\n",
      "\n",
      "Missing s - with time: ERROR - unsupported operand type(s) for -: 'NoneType' and 'Variable'\n",
      "\n",
      "Missing s - v,a,t: ERROR - unsupported operand type(s) for -: 'Variable' and 'NoneType'\n",
      "\n",
      "Missing u - s,v,a: ERROR - unsupported operand type(s) for ** or pow(): 'NoneType' and 'int'\n",
      "\n",
      "Missing u - s,v,t: ERROR - unsupported operand type(s) for ** or pow(): 'NoneType' and 'int'\n",
      "\n",
      "Missing u - v,a,t: ERROR - unsupported operand type(s) for -: 'Variable' and 'NoneType'\n",
      "\n",
      "Missing v - s,u,a: ERROR - unsupported operand type(s) for ** or pow(): 'NoneType' and 'int'\n",
      "\n",
      "Missing v - s,u,t: ERROR - unsupported operand type(s) for ** or pow(): 'NoneType' and 'int'\n",
      "\n",
      "Missing v - u,a,t: ERROR - unsupported operand type(s) for -: 'NoneType' and 'Variable'\n",
      "\n",
      "Missing a - s,u,v:\n",
      "  Input: {'s': 20, 'u': 0, 'v': 10}\n",
      "  Result: s=20.00, u=0.00, v=10.00, a=2.50, t=4.00\n",
      "\n",
      "Missing a - s,u,t: ERROR - unsupported operand type(s) for ** or pow(): 'NoneType' and 'int'\n",
      "\n",
      "Missing a - s,v,t: ERROR - unsupported operand type(s) for ** or pow(): 'NoneType' and 'int'\n",
      "\n",
      "Missing a - u,v,t:\n",
      "  Input: {'u': 5, 'v': 15, 't': 2}\n",
      "  Result: s=20.00, u=5.00, v=15.00, a=5.00, t=2.00\n",
      "\n",
      "Missing t - s,u,v:\n",
      "  Input: {'s': 16, 'u': 2, 'v': 6}\n",
      "  Result: s=16.00, u=2.00, v=6.00, a=1.00, t=4.00\n",
      "\n",
      "Missing t - s,u,a: ERROR - unsupported operand type(s) for ** or pow(): 'NoneType' and 'int'\n",
      "\n",
      "Missing t - s,v,a: ERROR - unsupported operand type(s) for ** or pow(): 'NoneType' and 'int'\n",
      "\n",
      "Missing t - u,v,a: ERROR - unsupported operand type(s) for /: 'AffineScalarFunc' and 'NoneType'\n",
      "\n",
      "\n",
      "=== Uncertainty Tests ===\n",
      "With uncertainties - missing s: ERROR - unsupported operand type(s) for /: 'AffineScalarFunc' and 'NoneType'\n",
      "\n",
      "With uncertainties - missing a:\n",
      "  Input: {'s': 20.0+/-1.0, 'u': 0.0+/-0.1, 'v': 10.0+/-0.2}\n",
      "  Result: s=20.0+/-1.0, u=0.00+/-0.10, v=10.00+/-0.20, a=2.50+/-0.16, t=4.00+/-0.22\n",
      "\n",
      "=== Quick Test Examples ===\n",
      "solve_suvat(u=0, v=10, a=2)  # missing s\n",
      "solve_suvat(s=20, u=0, v=10)  # missing a\n",
      "solve_suvat(s=16, u=2, v=6)  # missing t\n"
     ]
    }
   ],
   "source": [
    "\n",
    "# Test cases: each tuple has (description, kwargs)\n",
    "test_cases = [\n",
    "    # Missing s (displacement)\n",
    "    (\"Missing s - basic motion\", {\"u\": 0, \"v\": 10, \"a\": 2}),\n",
    "    (\"Missing s - with time\", {\"u\": 5, \"a\": 3, \"t\": 2}),\n",
    "    (\"Missing s - v,a,t\", {\"v\": 15, \"a\": 2.5, \"t\": 4}),\n",
    "    \n",
    "    # Missing u (initial velocity)\n",
    "    (\"Missing u - s,v,a\", {\"s\": 20, \"v\": 10, \"a\": -1}),\n",
    "    (\"Missing u - s,v,t\", {\"s\": 30, \"v\": 12, \"t\": 3}),\n",
    "    (\"Missing u - v,a,t\", {\"v\": 8, \"a\": 2, \"t\": 3}),\n",
    "    \n",
    "    # Missing v (final velocity)\n",
    "    (\"Missing v - s,u,a\", {\"s\": 25, \"u\": 5, \"a\": 2}),\n",
    "    (\"Missing v - s,u,t\", {\"s\": 24, \"u\": 6, \"t\": 3}),\n",
    "    (\"Missing v - u,a,t\", {\"u\": 0, \"a\": 9.8, \"t\": 2}),\n",
    "    \n",
    "    # Missing a (acceleration)\n",
    "    (\"Missing a - s,u,v\", {\"s\": 20, \"u\": 0, \"v\": 10}),\n",
    "    (\"Missing a - s,u,t\", {\"s\": 15, \"u\": 3, \"t\": 4}),\n",
    "    (\"Missing a - s,v,t\", {\"s\": 18, \"v\": 9, \"t\": 3}),\n",
    "    (\"Missing a - u,v,t\", {\"u\": 5, \"v\": 15, \"t\": 2}),\n",
    "    \n",
    "    # Missing t (time)\n",
    "    (\"Missing t - s,u,v\", {\"s\": 16, \"u\": 2, \"v\": 6}),\n",
    "    (\"Missing t - s,u,a\", {\"s\": 20, \"u\": 0, \"a\": 5}),\n",
    "    (\"Missing t - s,v,a\", {\"s\": 12, \"v\": 8, \"a\": 2}),\n",
    "    (\"Missing t - u,v,a\", {\"u\": 3, \"v\": 11, \"a\": 4}),\n",
    "]\n",
    "\n",
    "# Test with uncertainties\n",
    "uncertainty_cases = [\n",
    "    (\"With uncertainties - missing s\", {\"u\": ufloat(0, 0.1), \"v\": ufloat(10, 0.2), \"a\": 2}),\n",
    "    (\"With uncertainties - missing a\", {\"s\": ufloat(20, 1), \"u\": ufloat(0, 0.1), \"v\": ufloat(10, 0.2)}),\n",
    "]\n",
    "\n",
    "# Run tests\n",
    "print(\"=== Regular Float Tests ===\")\n",
    "for desc, kwargs in test_cases:\n",
    "    try:\n",
    "        result = solve_suvat(**kwargs)\n",
    "        print(f\"{desc}:\")\n",
    "        print(f\"  Input: {kwargs}\")\n",
    "        print(f\"  Result: s={result['s']:.2f}, u={result['u']:.2f}, v={result['v']:.2f}, a={result['a']:.2f}, t={result['t']:.2f}\")\n",
    "        print()\n",
    "    except Exception as e:\n",
    "        print(f\"{desc}: ERROR - {e}\")\n",
    "        print()\n",
    "\n",
    "print(\"\\n=== Uncertainty Tests ===\")\n",
    "for desc, kwargs in uncertainty_cases:\n",
    "    try:\n",
    "        result = solve_suvat(**kwargs)\n",
    "        print(f\"{desc}:\")\n",
    "        print(f\"  Input: {kwargs}\")\n",
    "        print(f\"  Result: s={result['s']}, u={result['u']}, v={result['v']}, a={result['a']}, t={result['t']}\")\n",
    "        print()\n",
    "    except Exception as e:\n",
    "        print(f\"{desc}: ERROR - {e}\")\n",
    "        print()\n",
    "\n",
    "# Quick individual tests you can run\n",
    "print(\"=== Quick Test Examples ===\")\n",
    "print(\"solve_suvat(u=0, v=10, a=2)  # missing s\")\n",
    "print(\"solve_suvat(s=20, u=0, v=10)  # missing a\") \n",
    "print(\"solve_suvat(s=16, u=2, v=6)  # missing t\")"
   ]
  }
 ],
 "metadata": {
  "kernelspec": {
   "display_name": ".globalenv",
   "language": "python",
   "name": "python3"
  },
  "language_info": {
   "codemirror_mode": {
    "name": "ipython",
    "version": 3
   },
   "file_extension": ".py",
   "mimetype": "text/x-python",
   "name": "python",
   "nbconvert_exporter": "python",
   "pygments_lexer": "ipython3",
   "version": "3.13.3"
  }
 },
 "nbformat": 4,
 "nbformat_minor": 5
}
